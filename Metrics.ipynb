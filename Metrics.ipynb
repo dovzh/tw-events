{
 "cells": [
  {
   "cell_type": "markdown",
   "metadata": {},
   "source": [
    "# Evaluation metrics"
   ]
  },
  {
   "cell_type": "markdown",
   "metadata": {},
   "source": [
    "### Metrics description"
   ]
  },
  {
   "cell_type": "markdown",
   "metadata": {},
   "source": [
    "<b>Def:</b> Event mention (EM) is entity or event phrase\n",
    "<br>\n",
    "<br>\n",
    "tw-events score is average tweet score.\n",
    "<br>\n",
    "Tweet score is F1 score of EM detections.\n",
    "<br>\n",
    "If EM is inaccurate, true positives should be increased on F1 score of it's labels."
   ]
  },
  {
   "cell_type": "markdown",
   "metadata": {},
   "source": [
    "### Metrics formula"
   ]
  },
  {
   "cell_type": "code",
   "execution_count": 37,
   "metadata": {},
   "outputs": [],
   "source": [
    "def event_mention_score(res, ann, label):\n",
    "    tp = 0\n",
    "    for i in range(len(res)):\n",
    "        tp += int((res[i] == label) and (ann[i] == label))\n",
    "\n",
    "    if (ann.count(label) == 0) or (res.count(label) == 0) or (tp == 0):\n",
    "        return 0\n",
    "\n",
    "    rec = tp / ann.count(label)\n",
    "    prec = tp / res.count(label)\n",
    "\n",
    "    return (2*rec*prec)/(rec+prec)\n",
    "\n",
    "def tweet_score(res, ann):\n",
    "    ann_ems = set(ann) - set('o')\n",
    "    res_ems = set(res) - set('o')\n",
    "    \n",
    "    em_labels = {'en', 'ep', 'en1', 'ep1', 'en2', 'ep2'} # TODO: change on regexp\n",
    "    assert ann_ems.issubset(em_labels)\n",
    "    assert res_ems.issubset(em_labels) \n",
    "    assert len(res) == len(ann)\n",
    "    \n",
    "    tp = 0\n",
    "    for label in res_ems:\n",
    "        tp += event_mention_score(res, ann, label)\n",
    "        \n",
    "    if (len(ann_ems) == 0) or (len(res_ems) == 0) or (tp == 0):\n",
    "        return 0\n",
    "\n",
    "    rec = tp / len(ann_ems)\n",
    "    prec = tp / len(res_ems)\n",
    "\n",
    "    return (2*rec*prec)/(rec+prec)"
   ]
  },
  {
   "cell_type": "markdown",
   "metadata": {},
   "source": [
    "### Examples"
   ]
  },
  {
   "cell_type": "code",
   "execution_count": 46,
   "metadata": {},
   "outputs": [],
   "source": [
    "tweet               = ['Cant', 'wait', 'for', 'the', 'ravens', 'game', 'tomorrow', '....', 'go', 'ray', 'rice', '!!!!!!!']\n",
    "ann                 = ['ep',   'ep',   'o',   'en',  'en',     'en',   'o',        'o',    'ep1','en1', 'en1',  'o']\n",
    "missed_events       = ['o',    'o',    'o',   'o',   'o',      'o',    'o',        'o',    'o',   'o',  'o',    'o']\n",
    "missed_event        = ['ep',   'ep',   'o',   'en',  'en',     'en',   'o',        'o',    'o',   'o',  'o',    'o']\n",
    "missed_entity       = ['ep',   'ep',   'o',   'o',   'o',      'o',    'o',        'o',    'ep1','en1', 'en1',  'o']\n",
    "fp_entity           = ['ep',   'ep',   'o',   'en',  'en',     'en',   'o',        'o',    'ep1','en1', 'en1',  'en2']\n",
    "wrong_entity        = ['en',   'en',   'o',   'o',   'o',      'o',    'o',        'o',    'ep1','en1', 'en1',  'o']\n",
    "inaccurate_entity   = ['ep',   'ep',   'o',   'o',   'en',     'en',   'en',       'o',    'ep1','en1', 'en1',  'o']"
   ]
  },
  {
   "cell_type": "markdown",
   "metadata": {},
   "source": [
    "#### EM Score Exaples:"
   ]
  },
  {
   "cell_type": "code",
   "execution_count": 52,
   "metadata": {},
   "outputs": [
    {
     "name": "stdout",
     "output_type": "stream",
     "text": [
      "Missed entity:  0\n",
      "Wrong entity (covers event phrase):  0\n",
      "Inaccurate entity:  0.67\n",
      "Correct entity:  1.0\n"
     ]
    }
   ],
   "source": [
    "print('Missed entity: ', event_mention_score(missed_entity, ann, 'en'))\n",
    "print('Wrong entity (covers event phrase): ', event_mention_score(wrong_entity, ann, 'en'))\n",
    "print('Inaccurate entity: ', round(event_mention_score(inaccurate_entity, ann, 'en'), 2))\n",
    "print('Correct entity: ', event_mention_score(ann, ann, 'en'))"
   ]
  },
  {
   "cell_type": "markdown",
   "metadata": {},
   "source": [
    "#### Tweet Score Exaples:"
   ]
  },
  {
   "cell_type": "code",
   "execution_count": 53,
   "metadata": {},
   "outputs": [
    {
     "name": "stdout",
     "output_type": "stream",
     "text": [
      "Missed events:  0\n",
      "Missed event:  0.67\n",
      "Missed entity:  0.86\n",
      "False positive entity:  0.89\n",
      "Wrong entity (covers event phrase):  0\n",
      "Inaccurate entity:  0.92\n"
     ]
    }
   ],
   "source": [
    "print('Missed events: ', round(tweet_score(missed_events, ann), 2))\n",
    "print('Missed event: ', round(tweet_score(missed_event, ann), 2))\n",
    "print('Missed entity: ', round(tweet_score(missed_entity, ann), 2))\n",
    "print('False positive entity: ', round(tweet_score(fp_entity, ann), 2))\n",
    "print('Wrong entity (covers event phrase): ', event_mention_score(wrong_entity, ann, 'en'))\n",
    "print('Inaccurate entity: ', round(tweet_score(inaccurate_entity, ann), 2))"
   ]
  },
  {
   "cell_type": "code",
   "execution_count": null,
   "metadata": {},
   "outputs": [],
   "source": []
  }
 ],
 "metadata": {
  "kernelspec": {
   "display_name": "Python 3",
   "language": "python",
   "name": "python3"
  },
  "language_info": {
   "codemirror_mode": {
    "name": "ipython",
    "version": 3
   },
   "file_extension": ".py",
   "mimetype": "text/x-python",
   "name": "python",
   "nbconvert_exporter": "python",
   "pygments_lexer": "ipython3",
   "version": "3.7.0"
  }
 },
 "nbformat": 4,
 "nbformat_minor": 2
}
